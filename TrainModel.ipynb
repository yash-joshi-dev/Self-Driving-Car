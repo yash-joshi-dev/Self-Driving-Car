{
  "nbformat": 4,
  "nbformat_minor": 0,
  "metadata": {
    "colab": {
      "provenance": [],
      "authorship_tag": "ABX9TyNsGbUIljvNnCFLUDZpIs36",
      "include_colab_link": true
    },
    "kernelspec": {
      "name": "python3",
      "display_name": "Python 3"
    },
    "language_info": {
      "name": "python"
    }
  },
  "cells": [
    {
      "cell_type": "markdown",
      "metadata": {
        "id": "view-in-github",
        "colab_type": "text"
      },
      "source": [
        "<a href=\"https://colab.research.google.com/github/yash-joshi-dev/Self-Driving-Car/blob/main/TrainModel.ipynb\" target=\"_parent\"><img src=\"https://colab.research.google.com/assets/colab-badge.svg\" alt=\"Open In Colab\"/></a>"
      ]
    },
    {
      "cell_type": "code",
      "execution_count": 4,
      "metadata": {
        "id": "OpddEqM-qwGZ"
      },
      "outputs": [],
      "source": [
        "import numpy as np\n",
        "import cv2\n",
        "import tensorflow as tf\n",
        "from tensorflow.keras import layers, models"
      ]
    },
    {
      "cell_type": "code",
      "source": [
        "# load and process data\n",
        "data = np.load('data.npy', allow_pickle=True)\n",
        "images = np.array([cv2.resize(x[0], (64, 64)) for x in data])/255.0\n",
        "\n",
        "dirMap = {'F': 0, 'B': 1, 'R': 2, 'L': 3}\n",
        "directions = np.array([dirMap[x[1]] for x in data])"
      ],
      "metadata": {
        "id": "7aRGHXzZrFE_"
      },
      "execution_count": 10,
      "outputs": []
    },
    {
      "cell_type": "code",
      "source": [
        "# create model\n",
        "model = models.Sequential([\n",
        "    layers.Conv2D(32, (3, 3), activation='relu', input_shape=(64, 64, 3)),\n",
        "    layers.MaxPooling2D((2, 2)),\n",
        "    layers.Conv2D(48, (3, 3), activation='relu'),\n",
        "    layers.MaxPooling2D((2, 2)),\n",
        "    layers.Conv2D(48, (3, 3), activation='relu'),\n",
        "    layers.Flatten(),\n",
        "    layers.Dense(64, activation='relu'),\n",
        "    layers.Dense(4, activation='softmax')\n",
        "])\n",
        "\n",
        "model.compile(optimizer='adam', loss='sparse_categorical_crossentropy', metrics=['accuracy'])\n",
        "model.summary()"
      ],
      "metadata": {
        "colab": {
          "base_uri": "https://localhost:8080/"
        },
        "id": "AA45jp2osVSB",
        "outputId": "91d444e1-6b32-40d4-83e3-f45d83c7caba"
      },
      "execution_count": 13,
      "outputs": [
        {
          "output_type": "stream",
          "name": "stdout",
          "text": [
            "Model: \"sequential_2\"\n",
            "_________________________________________________________________\n",
            " Layer (type)                Output Shape              Param #   \n",
            "=================================================================\n",
            " conv2d_6 (Conv2D)           (None, 62, 62, 32)        896       \n",
            "                                                                 \n",
            " max_pooling2d_4 (MaxPoolin  (None, 31, 31, 32)        0         \n",
            " g2D)                                                            \n",
            "                                                                 \n",
            " conv2d_7 (Conv2D)           (None, 29, 29, 48)        13872     \n",
            "                                                                 \n",
            " max_pooling2d_5 (MaxPoolin  (None, 14, 14, 48)        0         \n",
            " g2D)                                                            \n",
            "                                                                 \n",
            " conv2d_8 (Conv2D)           (None, 12, 12, 48)        20784     \n",
            "                                                                 \n",
            " flatten_2 (Flatten)         (None, 6912)              0         \n",
            "                                                                 \n",
            " dense_4 (Dense)             (None, 64)                442432    \n",
            "                                                                 \n",
            " dense_5 (Dense)             (None, 4)                 260       \n",
            "                                                                 \n",
            "=================================================================\n",
            "Total params: 478244 (1.82 MB)\n",
            "Trainable params: 478244 (1.82 MB)\n",
            "Non-trainable params: 0 (0.00 Byte)\n",
            "_________________________________________________________________\n"
          ]
        }
      ]
    },
    {
      "cell_type": "code",
      "source": [
        "# train and save the model\n",
        "model.fit(images, directions, epochs=20, batch_size=32)\n",
        "model.save('saved_model')\n",
        "\n",
        "# Convert the SavedModel to TensorFlow Lite format\n",
        "converter = tf.lite.TFLiteConverter.from_saved_model('saved_model')\n",
        "\n",
        "# Enable optimizations and debugging\n",
        "converter.optimizations = [tf.lite.Optimize.DEFAULT]\n",
        "tflite_model = converter.convert()\n",
        "\n",
        "# Save the TFLite model to a file\n",
        "with open('model.tflite', 'wb') as f:\n",
        "    f.write(tflite_model)\n",
        "\n",
        "print(\"Model has been converted to TFLite and saved as 'model.tflite'\")"
      ],
      "metadata": {
        "colab": {
          "base_uri": "https://localhost:8080/"
        },
        "id": "7lld7HGtslk9",
        "outputId": "fc5510ae-e05e-47ef-f5fb-1af1a3789589"
      },
      "execution_count": 15,
      "outputs": [
        {
          "output_type": "stream",
          "name": "stdout",
          "text": [
            "Epoch 1/20\n",
            "13/13 [==============================] - 2s 139ms/step - loss: 0.8674 - accuracy: 0.6156\n",
            "Epoch 2/20\n",
            "13/13 [==============================] - 3s 201ms/step - loss: 0.8053 - accuracy: 0.6571\n",
            "Epoch 3/20\n",
            "13/13 [==============================] - 3s 194ms/step - loss: 0.7451 - accuracy: 0.6831\n",
            "Epoch 4/20\n",
            "13/13 [==============================] - 2s 132ms/step - loss: 0.6965 - accuracy: 0.6857\n",
            "Epoch 5/20\n",
            "13/13 [==============================] - 2s 135ms/step - loss: 0.6782 - accuracy: 0.6935\n",
            "Epoch 6/20\n",
            "13/13 [==============================] - 2s 135ms/step - loss: 0.7329 - accuracy: 0.6727\n",
            "Epoch 7/20\n",
            "13/13 [==============================] - 2s 135ms/step - loss: 0.7106 - accuracy: 0.6623\n",
            "Epoch 8/20\n",
            "13/13 [==============================] - 2s 133ms/step - loss: 0.6440 - accuracy: 0.7299\n",
            "Epoch 9/20\n",
            "13/13 [==============================] - 2s 195ms/step - loss: 0.6050 - accuracy: 0.7247\n",
            "Epoch 10/20\n",
            "13/13 [==============================] - 3s 210ms/step - loss: 0.5065 - accuracy: 0.7714\n",
            "Epoch 11/20\n",
            "13/13 [==============================] - 2s 141ms/step - loss: 0.4402 - accuracy: 0.8182\n",
            "Epoch 12/20\n",
            "13/13 [==============================] - 2s 142ms/step - loss: 0.4592 - accuracy: 0.8234\n",
            "Epoch 13/20\n",
            "13/13 [==============================] - 2s 134ms/step - loss: 0.3940 - accuracy: 0.8416\n",
            "Epoch 14/20\n",
            "13/13 [==============================] - 2s 138ms/step - loss: 0.3326 - accuracy: 0.8701\n",
            "Epoch 15/20\n",
            "13/13 [==============================] - 2s 138ms/step - loss: 0.2498 - accuracy: 0.8987\n",
            "Epoch 16/20\n",
            "13/13 [==============================] - 2s 189ms/step - loss: 0.2108 - accuracy: 0.9273\n",
            "Epoch 17/20\n",
            "13/13 [==============================] - 3s 212ms/step - loss: 0.1557 - accuracy: 0.9506\n",
            "Epoch 18/20\n",
            "13/13 [==============================] - 2s 139ms/step - loss: 0.1225 - accuracy: 0.9662\n",
            "Epoch 19/20\n",
            "13/13 [==============================] - 2s 137ms/step - loss: 0.1159 - accuracy: 0.9662\n",
            "Epoch 20/20\n",
            "13/13 [==============================] - 2s 135ms/step - loss: 0.1002 - accuracy: 0.9662\n",
            "Model has been converted to TFLite and saved as 'model.tflite'\n"
          ]
        }
      ]
    }
  ]
}